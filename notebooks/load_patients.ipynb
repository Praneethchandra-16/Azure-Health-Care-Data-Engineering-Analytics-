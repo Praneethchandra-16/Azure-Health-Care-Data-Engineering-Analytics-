{
 "cells": [
  {
   "cell_type": "code",
   "execution_count": 0,
   "metadata": {
    "application/vnd.databricks.v1+cell": {
     "cellMetadata": {
      "byteLimit": 2048000,
      "rowLimit": 10000
     },
     "inputWidgets": {},
     "nuid": "f24a201d-3ba8-4a7c-8f6a-5952b36c1d4f",
     "showTitle": false,
     "tableResultSettingsMap": {},
     "title": ""
    }
   },
   "outputs": [
    {
     "output_type": "stream",
     "name": "stdout",
     "output_type": "stream",
     "text": [
      "+------------+---------+--------+----------+-----------+--------------------+------+----------+--------------------+------------+\n|   PatientID|FirstName|LastName|MiddleName|        SSN|         PhoneNumber|Gender|       DOB|             Address|ModifiedDate|\n+------------+---------+--------+----------+-----------+--------------------+------+----------+--------------------+------------+\n|HOSP1-000001|     Rick|   Russo|         U|188-23-9828|+1-630-829-7585x0769|Female|1937-06-04|Unit 0915 Box 706...|  2020-05-25|\n|HOSP1-000002|  Gregory|  Graham|         B|730-45-8217|  456.746.7289x69233|Female|1937-06-10|9864 Gibson Islan...|  2021-06-05|\n|HOSP1-000003|     Mary|    Ryan|         H|348-14-7947|        522-501-5461|Female|1926-08-09|6194 Joseph Turnp...|  2024-09-06|\n|HOSP1-000004|   Daniel|   Brown|         D|013-38-1645|     +1-345-608-9409|  Male|1971-10-23|780 Conrad Isle, ...|  2022-04-07|\n|HOSP1-000005|     Brad| Carroll|         M|461-53-6290|   963.994.2969x6232|  Male|1927-10-18|3167 Hall Burg, T...|  2022-06-19|\n+------------+---------+--------+----------+-----------+--------------------+------+----------+--------------------+------------+\nonly showing top 5 rows\n\n"
     ]
    }
   ],
   "source": [
    "patients_df = spark.read \\\n",
    "    .option(\"header\", True) \\\n",
    "    .option(\"inferSchema\", True) \\\n",
    "    .csv(\"abfss://hospital-a@healthcaredatalakep.dfs.core.windows.net/patients.csv\")\n",
    "\n",
    "patients_df.show(5)\n"
   ]
  },
  {
   "cell_type": "code",
   "execution_count": 0,
   "metadata": {
    "application/vnd.databricks.v1+cell": {
     "cellMetadata": {
      "byteLimit": 2048000,
      "rowLimit": 10000
     },
     "inputWidgets": {},
     "nuid": "5e7f9bfb-e7ad-4f88-b079-fb478d965946",
     "showTitle": false,
     "tableResultSettingsMap": {},
     "title": ""
    }
   },
   "outputs": [
    {
     "output_type": "stream",
     "name": "stdout",
     "output_type": "stream",
     "text": [
      "+-------+----------+\n| DeptID|      Name|\n+-------+----------+\n|DEPT001| Emergency|\n|DEPT002|Cardiology|\n|DEPT003| Neurology|\n|DEPT004|  Oncology|\n|DEPT005|Pediatrics|\n+-------+----------+\nonly showing top 5 rows\n\n"
     ]
    }
   ],
   "source": [
    "departments_df = spark.read \\\n",
    "    .option(\"header\", True) \\\n",
    "    .option(\"inferSchema\", True) \\\n",
    "    .csv(\"abfss://hospital-a@healthcaredatalakep.dfs.core.windows.net/departments.csv\")\n",
    "\n",
    "departments_df.show(5)\n"
   ]
  },
  {
   "cell_type": "code",
   "execution_count": 0,
   "metadata": {
    "application/vnd.databricks.v1+cell": {
     "cellMetadata": {
      "byteLimit": 2048000,
      "rowLimit": 10000
     },
     "inputWidgets": {},
     "nuid": "e27689d5-4bae-4b6b-b5cd-b293c0fc77e2",
     "showTitle": false,
     "tableResultSettingsMap": {},
     "title": ""
    }
   },
   "outputs": [
    {
     "output_type": "stream",
     "name": "stdout",
     "output_type": "stream",
     "text": [
      "+-----------+---------+--------+------------------+-------+----------+\n| ProviderID|FirstName|LastName|    Specialization| DeptID|       NPI|\n+-----------+---------+--------+------------------+-------+----------+\n|H1-PROV0001|  Brandon|  Harper|          Oncology|DEPT018|3086631719|\n|H1-PROV0002|     Luke|   Clark|Emergency Medicine|DEPT006|1265568618|\n|H1-PROV0003|  Brandon|  Austin|        Pediatrics|DEPT014|3152052791|\n|H1-PROV0004|  Anthony|   Jones|         Radiology|DEPT011|8195895822|\n|H1-PROV0005| Courtney|  Flores|    Anesthesiology|DEPT009|4159583915|\n+-----------+---------+--------+------------------+-------+----------+\nonly showing top 5 rows\n\n"
     ]
    }
   ],
   "source": [
    "providers_df = spark.read \\\n",
    "    .option(\"header\", True) \\\n",
    "    .option(\"inferSchema\", True) \\\n",
    "    .csv(\"abfss://hospital-a@healthcaredatalakep.dfs.core.windows.net/providers.csv\")\n",
    "\n",
    "providers_df.show(5)\n"
   ]
  },
  {
   "cell_type": "code",
   "execution_count": 0,
   "metadata": {
    "application/vnd.databricks.v1+cell": {
     "cellMetadata": {
      "byteLimit": 2048000,
      "rowLimit": 10000
     },
     "inputWidgets": {},
     "nuid": "77b87f6b-975c-49ce-bd28-794c260980a3",
     "showTitle": false,
     "tableResultSettingsMap": {},
     "title": ""
    }
   },
   "outputs": [
    {
     "output_type": "stream",
     "name": "stdout",
     "output_type": "stream",
     "text": [
      "+-----------+------------+-------------+---------------+----------+------------+-------------+------------+------------+\n|EncounterID|   PatientID|EncounterDate|  EncounterType|ProviderID|DepartmentID|ProcedureCode|InsertedDate|ModifiedDate|\n+-----------+------------+-------------+---------------+----------+------------+-------------+------------+------------+\n|  ENC000001|HOSP1-001127|   2020-01-14|      Inpatient|  PROV0133|     DEPT019|        97099|  2023-03-08|  2020-03-01|\n|  ENC000002|HOSP1-003842|   2021-01-21|     Outpatient|  PROV0147|     DEPT013|        19272|  2022-05-01|  2022-02-05|\n|  ENC000003|HOSP1-001372|   2021-10-29|   Telemedicine|  PROV0444|     DEPT004|        65512|  2023-06-13|  2022-08-11|\n|  ENC000004|HOSP1-002649|   2023-05-05|Routine Checkup|  PROV0169|     DEPT010|        38334|  2020-06-14|  2023-06-30|\n|  ENC000005|HOSP1-001709|   2020-04-05|Routine Checkup|  PROV0479|     DEPT014|        10594|  2021-02-08|  2020-10-19|\n+-----------+------------+-------------+---------------+----------+------------+-------------+------------+------------+\nonly showing top 5 rows\n\n"
     ]
    }
   ],
   "source": [
    "encounters_df = spark.read \\\n",
    "    .option(\"header\", True) \\\n",
    "    .option(\"inferSchema\", True) \\\n",
    "    .csv(\"abfss://hospital-a@healthcaredatalakep.dfs.core.windows.net/encounters.csv\")\n",
    "\n",
    "encounters_df.show(5)\n"
   ]
  },
  {
   "cell_type": "code",
   "execution_count": 0,
   "metadata": {
    "application/vnd.databricks.v1+cell": {
     "cellMetadata": {
      "byteLimit": 2048000,
      "rowLimit": 10000
     },
     "inputWidgets": {},
     "nuid": "9c1716a3-6cfa-43ad-8f49-626bef73a4ef",
     "showTitle": false,
     "tableResultSettingsMap": {},
     "title": ""
    }
   },
   "outputs": [
    {
     "output_type": "stream",
     "name": "stdout",
     "output_type": "stream",
     "text": [
      "+-------------+-----------+------------+----------+-------+----------+-----------+----------+---------+-----------------+----------+------------------+-----------+---------+-------------+-------+--------------+----------+----------+----------+------------+\n|TransactionID|EncounterID|   PatientID|ProviderID| DeptID| VisitDate|ServiceDate|  PaidDate|VisitType|           Amount|AmountType|        PaidAmount|    ClaimID|  PayorID|ProcedureCode|ICDCode|LineOfBusiness|MedicaidID|MedicareID|InsertDate|ModifiedDate|\n+-------------+-----------+------------+----------+-------+----------+-----------+----------+---------+-----------------+----------+------------------+-----------+---------+-------------+-------+--------------+----------+----------+----------+------------+\n|  TRANS000001|  ENC001204|HOSP1-002372|  PROV0456|DEPT002|2024-08-02| 2024-05-25|2024-06-15|  Routine|988.3699951171875|  Medicare|315.70001220703125|CLAIM533365|PAYOR4707|        94521|  I19.4|    Commercial| MEDI24173|MCARE19466|2021-01-16|  2021-12-27|\n|  TRANS000002|  ENC000029|HOSP1-002329|  PROV0321|DEPT013|2024-05-02| 2024-09-14|2024-09-19|Emergency| 291.260009765625|  Medicare|  667.989990234375|CLAIM629724|PAYOR1481|        51588|  I54.0|      Self-Pay| MEDI63110|MCARE97946|2021-02-06|  2022-01-26|\n|  TRANS000003|  ENC001088|HOSP1-004636|  PROV0405|DEPT007|2024-07-25| 2024-03-04|2024-06-13|  Routine|91.51000213623047|  Medicare| 595.5599975585938|CLAIM305176|PAYOR8415|        32053|  I35.3|      Medicaid| MEDI83622|MCARE77469|2022-05-09|  2021-09-22|\n|  TRANS000004|  ENC004215|HOSP1-004064|  PROV0463|DEPT019|2024-01-30| 2024-02-05|2024-01-21|Follow-up|893.2100219726562| Insurance|489.79998779296875|CLAIM987878|PAYOR5517|        21422|  I35.1|    Commercial| MEDI89783|MCARE68786|2021-01-30|  2023-02-20|\n|  TRANS000005|  ENC006483|HOSP1-003625|  PROV0167|DEPT011|2024-09-23| 2024-04-11|2024-04-24|Emergency|729.3699951171875| Insurance| 305.1099853515625|CLAIM988945|PAYOR8174|        39210|  I81.1|    Commercial| MEDI52037|MCARE92710|2024-08-11|  2022-01-28|\n+-------------+-----------+------------+----------+-------+----------+-----------+----------+---------+-----------------+----------+------------------+-----------+---------+-------------+-------+--------------+----------+----------+----------+------------+\nonly showing top 5 rows\n\n"
     ]
    }
   ],
   "source": [
    "transactions_df = spark.read \\\n",
    "    .option(\"header\", True) \\\n",
    "    .option(\"inferSchema\", True) \\\n",
    "    .csv(\"abfss://hospital-a@healthcaredatalakep.dfs.core.windows.net/transactions.csv\")\n",
    "\n",
    "transactions_df.show(5)\n"
   ]
  },
  {
   "cell_type": "markdown",
   "metadata": {
    "application/vnd.databricks.v1+cell": {
     "cellMetadata": {},
     "inputWidgets": {},
     "nuid": "611ea316-ea19-47f5-88e1-2bd05b5806a7",
     "showTitle": false,
     "tableResultSettingsMap": {},
     "title": ""
    }
   },
   "source": [
    "#Hospital B"
   ]
  },
  {
   "cell_type": "code",
   "execution_count": 0,
   "metadata": {
    "application/vnd.databricks.v1+cell": {
     "cellMetadata": {
      "byteLimit": 2048000,
      "rowLimit": 10000
     },
     "inputWidgets": {},
     "nuid": "33c31c5c-681c-4bb9-93a3-5b4aa2103c6e",
     "showTitle": false,
     "tableResultSettingsMap": {},
     "title": ""
    }
   },
   "outputs": [
    {
     "output_type": "stream",
     "name": "stdout",
     "output_type": "stream",
     "text": [
      "+------------+-----------+------+------+-----------+--------------------+------+----------+--------------------+------------+\n|          ID|     F_Name|L_Name|M_Name|        SSN|         PhoneNumber|Gender|       DOB|             Address|Updated_Date|\n+------------+-----------+------+------+-----------+--------------------+------+----------+--------------------+------------+\n|HOSP1-000001|   Victoria|Gamble|     Q|318-87-5123|          4902994299|  Male|1994-12-24|7912 Arthur Loaf ...|  2021-06-19|\n|HOSP1-000002|     Meghan|  West|     F|110-08-3049|  (703)210-5078x2916|Female|2009-04-03|70600 Destiny Gro...|  2024-07-06|\n|HOSP1-000003|Christopher| Klein|     X|528-95-5438|001-234-668-8071x032|  Male|1987-11-15|61743 Vickie Tunn...|  2021-02-22|\n|HOSP1-000004|      Grace| Young|     T|821-27-2909|        208.792.7266|Female|2015-02-20|1452 Gregory View...|  2021-12-27|\n|HOSP1-000005|     Andrew| Smith|     N|535-73-4816|  574-505-3750x66300|  Male|1973-06-12|15378 Thomas Lock...|  2020-08-20|\n+------------+-----------+------+------+-----------+--------------------+------+----------+--------------------+------------+\nonly showing top 5 rows\n\n"
     ]
    }
   ],
   "source": [
    "patients_b_df = spark.read \\\n",
    "    .option(\"header\", True) \\\n",
    "    .option(\"inferSchema\", True) \\\n",
    "    .csv(\"abfss://hospital-b@healthcaredatalakep.dfs.core.windows.net/patients.csv\")\n",
    "\n",
    "patients_b_df.show(5)\n"
   ]
  },
  {
   "cell_type": "code",
   "execution_count": 0,
   "metadata": {
    "application/vnd.databricks.v1+cell": {
     "cellMetadata": {
      "byteLimit": 2048000,
      "rowLimit": 10000
     },
     "inputWidgets": {},
     "nuid": "35a97a03-46b0-43a0-b9dd-a55c8ae3e9ec",
     "showTitle": false,
     "tableResultSettingsMap": {},
     "title": ""
    }
   },
   "outputs": [
    {
     "output_type": "stream",
     "name": "stdout",
     "output_type": "stream",
     "text": [
      "+-------+----------+\n| DeptID|      Name|\n+-------+----------+\n|DEPT001| Emergency|\n|DEPT002|Cardiology|\n|DEPT003| Neurology|\n|DEPT004|  Oncology|\n|DEPT005|Pediatrics|\n+-------+----------+\nonly showing top 5 rows\n\n"
     ]
    }
   ],
   "source": [
    "departments_b_df = spark.read \\\n",
    "    .option(\"header\", True) \\\n",
    "    .option(\"inferSchema\", True) \\\n",
    "    .csv(\"abfss://hospital-b@healthcaredatalakep.dfs.core.windows.net/departments.csv\")\n",
    "\n",
    "departments_b_df.show(5)\n"
   ]
  },
  {
   "cell_type": "code",
   "execution_count": 0,
   "metadata": {
    "application/vnd.databricks.v1+cell": {
     "cellMetadata": {
      "byteLimit": 2048000,
      "rowLimit": 10000
     },
     "inputWidgets": {},
     "nuid": "1062c9b9-6f25-4e94-934c-fbe5dad41146",
     "showTitle": false,
     "tableResultSettingsMap": {},
     "title": ""
    }
   },
   "outputs": [
    {
     "output_type": "stream",
     "name": "stdout",
     "output_type": "stream",
     "text": [
      "+-----------+---------+--------+------------------+-------+----------+\n| ProviderID|FirstName|LastName|    Specialization| DeptID|       NPI|\n+-----------+---------+--------+------------------+-------+----------+\n|H2-PROV0001|    Wanda|   Ramos|        Pediatrics|DEPT003|9903342850|\n|H2-PROV0002|   Steven|   Roach|         Radiology|DEPT010|3653586329|\n|H2-PROV0003|    Amber|  Martin|Emergency Medicine|DEPT002|6917277775|\n|H2-PROV0004|     Ryan|Thompson|          Oncology|DEPT007|5911746015|\n|H2-PROV0005|  Michael|   Gould|         Neurology|DEPT018|5155973871|\n+-----------+---------+--------+------------------+-------+----------+\nonly showing top 5 rows\n\n"
     ]
    }
   ],
   "source": [
    "providers_b_df = spark.read \\\n",
    "    .option(\"header\", True) \\\n",
    "    .option(\"inferSchema\", True) \\\n",
    "    .csv(\"abfss://hospital-b@healthcaredatalakep.dfs.core.windows.net/providers.csv\")\n",
    "\n",
    "providers_b_df.show(5)\n"
   ]
  },
  {
   "cell_type": "code",
   "execution_count": 0,
   "metadata": {
    "application/vnd.databricks.v1+cell": {
     "cellMetadata": {
      "byteLimit": 2048000,
      "rowLimit": 10000
     },
     "inputWidgets": {},
     "nuid": "eaf0346c-1de5-49a7-870d-5e301073187d",
     "showTitle": false,
     "tableResultSettingsMap": {},
     "title": ""
    }
   },
   "outputs": [
    {
     "output_type": "stream",
     "name": "stdout",
     "output_type": "stream",
     "text": [
      "+-----------+------------+-------------+---------------+----------+------------+-------------+------------+------------+\n|EncounterID|   PatientID|EncounterDate|  EncounterType|ProviderID|DepartmentID|ProcedureCode|InsertedDate|ModifiedDate|\n+-----------+------------+-------------+---------------+----------+------------+-------------+------------+------------+\n|  ENC000001|HOSP1-001913|   2021-07-14|      Inpatient|  PROV0238|     DEPT005|        79392|  2021-10-31|  2020-01-26|\n|  ENC000002|HOSP1-004468|   2020-10-21|     Outpatient|  PROV0422|     DEPT011|        39525|  2020-04-28|  2021-07-12|\n|  ENC000003|HOSP1-001177|   2022-10-16|     Outpatient|  PROV0250|     DEPT003|        12322|  2024-05-16|  2023-06-09|\n|  ENC000004|HOSP1-000266|   2021-05-09|      Inpatient|  PROV0177|     DEPT009|        14054|  2023-06-07|  2022-12-17|\n|  ENC000005|HOSP1-004918|   2021-05-15|Routine Checkup|  PROV0450|     DEPT006|        25936|  2024-11-02|  2021-09-30|\n+-----------+------------+-------------+---------------+----------+------------+-------------+------------+------------+\nonly showing top 5 rows\n\n"
     ]
    }
   ],
   "source": [
    "encounters_b_df = spark.read \\\n",
    "    .option(\"header\", True) \\\n",
    "    .option(\"inferSchema\", True) \\\n",
    "    .csv(\"abfss://hospital-b@healthcaredatalakep.dfs.core.windows.net/encounters.csv\")\n",
    "\n",
    "encounters_b_df.show(5)\n"
   ]
  },
  {
   "cell_type": "code",
   "execution_count": 0,
   "metadata": {
    "application/vnd.databricks.v1+cell": {
     "cellMetadata": {
      "byteLimit": 2048000,
      "rowLimit": 10000
     },
     "inputWidgets": {},
     "nuid": "c9429d16-e929-4b27-aba1-7522fd6bf795",
     "showTitle": false,
     "tableResultSettingsMap": {},
     "title": ""
    }
   },
   "outputs": [
    {
     "output_type": "stream",
     "name": "stdout",
     "output_type": "stream",
     "text": [
      "+-------------+-----------+------------+----------+-------+----------+-----------+----------+------------+------------------+----------+------------------+-----------+---------+-------------+-------+--------------+----------+----------+----------+------------+\n|TransactionID|EncounterID|   PatientID|ProviderID| DeptID| VisitDate|ServiceDate|  PaidDate|   VisitType|            Amount|AmountType|        PaidAmount|    ClaimID|  PayorID|ProcedureCode|ICDCode|LineOfBusiness|MedicaidID|MedicareID|InsertDate|ModifiedDate|\n+-------------+-----------+------------+----------+-------+----------+-----------+----------+------------+------------------+----------+------------------+-----------+---------+-------------+-------+--------------+----------+----------+----------+------------+\n|  TRANS000001|  ENC000512|HOSP1-002609|  PROV0434|DEPT016|2024-08-31| 2024-04-03|2024-02-06|   Follow-up| 616.8699951171875|  Self-pay|234.57000732421875|CLAIM879364|PAYOR9066|        93411|  I95.4|    Commercial| MEDI13625|MCARE38344|2021-10-01|  2024-01-15|\n|  TRANS000002|  ENC009236|HOSP1-004031|  PROV0382|DEPT017|2024-04-10| 2024-08-25|2024-02-01|   Follow-up| 680.4199829101562| Insurance| 445.8699951171875|CLAIM835197|PAYOR1013|        86401|  I39.5|      Self-Pay| MEDI20311|MCARE53178|2020-03-20|  2023-01-29|\n|  TRANS000003|  ENC000005|HOSP1-004422|  PROV0341|DEPT006|2024-01-02| 2024-07-03|2024-07-22|Consultation| 540.0900268554688|  Medicare| 719.7100219726562|CLAIM497349|PAYOR7495|        75397|  I78.3|      Medicaid| MEDI68063|MCARE24004|2022-10-15|  2020-11-25|\n|  TRANS000004|  ENC002827|HOSP1-001616|  PROV0278|DEPT015|2024-03-16| 2024-03-30|2024-04-01|Consultation|245.66000366210938|  Self-pay|215.19000244140625|CLAIM566093|PAYOR8372|        14167|  I82.0|      Medicaid| MEDI16031|MCARE86440|2023-12-05|  2023-09-07|\n|  TRANS000005|  ENC001936|HOSP1-003605|  PROV0028|DEPT017|2024-06-11| 2024-02-07|2024-04-12|   Emergency| 829.8300170898438|    Co-pay|508.30999755859375|CLAIM952166|PAYOR2868|        69577|  I23.3|      Medicaid| MEDI44710|MCARE13352|2024-08-20|  2022-10-19|\n+-------------+-----------+------------+----------+-------+----------+-----------+----------+------------+------------------+----------+------------------+-----------+---------+-------------+-------+--------------+----------+----------+----------+------------+\nonly showing top 5 rows\n\n"
     ]
    }
   ],
   "source": [
    "transactions_b_df = spark.read \\\n",
    "    .option(\"header\", True) \\\n",
    "    .option(\"inferSchema\", True) \\\n",
    "    .csv(\"abfss://hospital-b@healthcaredatalakep.dfs.core.windows.net/transactions.csv\")\n",
    "\n",
    "transactions_b_df.show(5)\n"
   ]
  },
  {
   "cell_type": "markdown",
   "metadata": {
    "application/vnd.databricks.v1+cell": {
     "cellMetadata": {},
     "inputWidgets": {},
     "nuid": "30c1511a-d78a-4eb8-9cd2-01444a2743a2",
     "showTitle": false,
     "tableResultSettingsMap": {},
     "title": ""
    }
   },
   "source": [
    "#Mounting the Containers"
   ]
  },
  {
   "cell_type": "code",
   "execution_count": 0,
   "metadata": {
    "application/vnd.databricks.v1+cell": {
     "cellMetadata": {
      "byteLimit": 2048000,
      "rowLimit": 10000
     },
     "inputWidgets": {},
     "nuid": "217c679e-d0ad-4a28-a419-5a65e49a1b77",
     "showTitle": false,
     "tableResultSettingsMap": {},
     "title": ""
    }
   },
   "outputs": [
    {
     "output_type": "execute_result",
     "data": {
      "text/plain": [
       "True"
      ]
     },
     "execution_count": 15,
     "metadata": {},
     "output_type": "execute_result"
    }
   ],
   "source": [
    "dbutils.fs.mount(\n",
    "  source = \"wasbs://hospital-a@healthcaredatalakep.blob.core.windows.net/\",\n",
    "  mount_point = \"/mnt/bronze/hospital-a\",\n",
    "  extra_configs = {\n",
    "    \"fs.azure.account.key.healthcaredatalakep.blob.core.windows.net\": \"\"\n",
    "  }\n",
    ")\n"
   ]
  },
  {
   "cell_type": "code",
   "execution_count": 0,
   "metadata": {
    "application/vnd.databricks.v1+cell": {
     "cellMetadata": {
      "byteLimit": 2048000,
      "rowLimit": 10000
     },
     "inputWidgets": {},
     "nuid": "b6b86739-79f4-45d9-917e-31315b31651c",
     "showTitle": false,
     "tableResultSettingsMap": {},
     "title": ""
    }
   },
   "outputs": [
    {
     "output_type": "execute_result",
     "data": {
      "text/plain": [
       "True"
      ]
     },
     "execution_count": 16,
     "metadata": {},
     "output_type": "execute_result"
    }
   ],
   "source": [
    "dbutils.fs.mount(\n",
    "  source = \"wasbs://hospital-b@healthcaredatalakep.blob.core.windows.net/\",\n",
    "  mount_point = \"/mnt/bronze/hospital-b\",\n",
    "  extra_configs = {\n",
    "    \"fs.azure.account.key.healthcaredatalakep.blob.core.windows.net\": \"\"\n",
    "  }\n",
    ")\n"
   ]
  },
  {
   "cell_type": "markdown",
   "metadata": {
    "application/vnd.databricks.v1+cell": {
     "cellMetadata": {},
     "inputWidgets": {},
     "nuid": "338b6fe9-85b4-469e-9bc4-1a18389ae428",
     "showTitle": false,
     "tableResultSettingsMap": {},
     "title": ""
    }
   },
   "source": [
    "#Data Exploration"
   ]
  },
  {
   "cell_type": "markdown",
   "metadata": {
    "application/vnd.databricks.v1+cell": {
     "cellMetadata": {},
     "inputWidgets": {},
     "nuid": "b58ab43b-d185-4463-89bf-1e31b75f2f9e",
     "showTitle": false,
     "tableResultSettingsMap": {},
     "title": ""
    }
   },
   "source": [
    "Loading Csvs into Dataframe"
   ]
  },
  {
   "cell_type": "markdown",
   "metadata": {
    "application/vnd.databricks.v1+cell": {
     "cellMetadata": {},
     "inputWidgets": {},
     "nuid": "9c25acb5-a987-4c6d-9a75-4317883eab81",
     "showTitle": false,
     "tableResultSettingsMap": {},
     "title": ""
    }
   },
   "source": [
    "Hospital A"
   ]
  },
  {
   "cell_type": "code",
   "execution_count": 0,
   "metadata": {
    "application/vnd.databricks.v1+cell": {
     "cellMetadata": {
      "byteLimit": 2048000,
      "rowLimit": 10000
     },
     "inputWidgets": {},
     "nuid": "c9532bac-996c-4405-ae22-5421ca6fe14b",
     "showTitle": false,
     "tableResultSettingsMap": {},
     "title": ""
    }
   },
   "outputs": [],
   "source": [
    "# Patients\n",
    "df_patients_a = spark.read.csv(\"/mnt/bronze/hospital-a/patients.csv\", header=True, inferSchema=True)\n",
    "\n",
    "# Providers\n",
    "df_providers_a = spark.read.csv(\"/mnt/bronze/hospital-a/providers.csv\", header=True, inferSchema=True)\n",
    "\n",
    "# Departments\n",
    "df_departments_a = spark.read.csv(\"/mnt/bronze/hospital-a/departments.csv\", header=True, inferSchema=True)\n",
    "\n",
    "# Encounters\n",
    "df_encounters_a = spark.read.csv(\"/mnt/bronze/hospital-a/encounters.csv\", header=True, inferSchema=True)\n",
    "\n",
    "# Transactions\n",
    "df_transactions_a = spark.read.csv(\"/mnt/bronze/hospital-a/transactions.csv\", header=True, inferSchema=True)\n"
   ]
  },
  {
   "cell_type": "markdown",
   "metadata": {
    "application/vnd.databricks.v1+cell": {
     "cellMetadata": {},
     "inputWidgets": {},
     "nuid": "2ff67e8c-a896-48c9-a7e7-4634f0d029ea",
     "showTitle": false,
     "tableResultSettingsMap": {},
     "title": ""
    }
   },
   "source": [
    "Hospital B"
   ]
  },
  {
   "cell_type": "code",
   "execution_count": 0,
   "metadata": {
    "application/vnd.databricks.v1+cell": {
     "cellMetadata": {
      "byteLimit": 2048000,
      "rowLimit": 10000
     },
     "inputWidgets": {},
     "nuid": "8b993524-601f-46b7-9971-59bc22a9aaac",
     "showTitle": false,
     "tableResultSettingsMap": {},
     "title": ""
    }
   },
   "outputs": [],
   "source": [
    "# Patients\n",
    "df_patients_b = spark.read.csv(\"/mnt/bronze/hospital-b/patients.csv\", header=True, inferSchema=True)\n",
    "\n",
    "# Providers\n",
    "df_providers_b = spark.read.csv(\"/mnt/bronze/hospital-b/providers.csv\", header=True, inferSchema=True)\n",
    "\n",
    "# Departments\n",
    "df_departments_b = spark.read.csv(\"/mnt/bronze/hospital-b/departments.csv\", header=True, inferSchema=True)\n",
    "\n",
    "# Encounters\n",
    "df_encounters_b = spark.read.csv(\"/mnt/bronze/hospital-b/encounters.csv\", header=True, inferSchema=True)\n",
    "\n",
    "# Transactions\n",
    "df_transactions_b = spark.read.csv(\"/mnt/bronze/hospital-b/transactions.csv\", header=True, inferSchema=True)\n"
   ]
  },
  {
   "cell_type": "code",
   "execution_count": 0,
   "metadata": {
    "application/vnd.databricks.v1+cell": {
     "cellMetadata": {
      "byteLimit": 2048000,
      "rowLimit": 10000
     },
     "inputWidgets": {},
     "nuid": "495d4a35-2d52-4bfc-84bc-6cf50ca159b7",
     "showTitle": false,
     "tableResultSettingsMap": {},
     "title": ""
    }
   },
   "outputs": [
    {
     "output_type": "stream",
     "name": "stdout",
     "output_type": "stream",
     "text": [
      "+------------+---------+--------+----------+-----------+--------------------+------+----------+--------------------+------------+\n|   PatientID|FirstName|LastName|MiddleName|        SSN|         PhoneNumber|Gender|       DOB|             Address|ModifiedDate|\n+------------+---------+--------+----------+-----------+--------------------+------+----------+--------------------+------------+\n|HOSP1-000001|     Rick|   Russo|         U|188-23-9828|+1-630-829-7585x0769|Female|1937-06-04|Unit 0915 Box 706...|  2020-05-25|\n|HOSP1-000002|  Gregory|  Graham|         B|730-45-8217|  456.746.7289x69233|Female|1937-06-10|9864 Gibson Islan...|  2021-06-05|\n|HOSP1-000003|     Mary|    Ryan|         H|348-14-7947|        522-501-5461|Female|1926-08-09|6194 Joseph Turnp...|  2024-09-06|\n|HOSP1-000004|   Daniel|   Brown|         D|013-38-1645|     +1-345-608-9409|  Male|1971-10-23|780 Conrad Isle, ...|  2022-04-07|\n|HOSP1-000005|     Brad| Carroll|         M|461-53-6290|   963.994.2969x6232|  Male|1927-10-18|3167 Hall Burg, T...|  2022-06-19|\n+------------+---------+--------+----------+-----------+--------------------+------+----------+--------------------+------------+\nonly showing top 5 rows\n\n"
     ]
    }
   ],
   "source": [
    "df_patients_a.show(5)\n"
   ]
  },
  {
   "cell_type": "code",
   "execution_count": 0,
   "metadata": {
    "application/vnd.databricks.v1+cell": {
     "cellMetadata": {
      "byteLimit": 2048000,
      "rowLimit": 10000
     },
     "inputWidgets": {},
     "nuid": "cc458e74-9e55-40b6-94c0-21a35d0608d5",
     "showTitle": false,
     "tableResultSettingsMap": {},
     "title": ""
    }
   },
   "outputs": [
    {
     "output_type": "stream",
     "name": "stdout",
     "output_type": "stream",
     "text": [
      "root\n |-- PatientID: string (nullable = true)\n |-- FirstName: string (nullable = true)\n |-- LastName: string (nullable = true)\n |-- MiddleName: string (nullable = true)\n |-- SSN: string (nullable = true)\n |-- PhoneNumber: string (nullable = true)\n |-- Gender: string (nullable = true)\n |-- DOB: date (nullable = true)\n |-- Address: string (nullable = true)\n |-- ModifiedDate: date (nullable = true)\n\n"
     ]
    }
   ],
   "source": [
    "df_patients_a.printSchema()"
   ]
  },
  {
   "cell_type": "code",
   "execution_count": 0,
   "metadata": {
    "application/vnd.databricks.v1+cell": {
     "cellMetadata": {
      "byteLimit": 2048000,
      "rowLimit": 10000
     },
     "inputWidgets": {},
     "nuid": "e8177fee-a1d1-4349-8df3-206fc058de17",
     "showTitle": false,
     "tableResultSettingsMap": {},
     "title": ""
    }
   },
   "outputs": [
    {
     "output_type": "execute_result",
     "data": {
      "text/plain": [
       "5000"
      ]
     },
     "execution_count": 21,
     "metadata": {},
     "output_type": "execute_result"
    }
   ],
   "source": [
    "df_patients_a.count()"
   ]
  },
  {
   "cell_type": "code",
   "execution_count": 0,
   "metadata": {
    "application/vnd.databricks.v1+cell": {
     "cellMetadata": {
      "byteLimit": 2048000,
      "rowLimit": 10000
     },
     "inputWidgets": {},
     "nuid": "93069990-b639-4fc2-a488-268d92d4f1be",
     "showTitle": false,
     "tableResultSettingsMap": {},
     "title": ""
    }
   },
   "outputs": [
    {
     "output_type": "stream",
     "name": "stdout",
     "output_type": "stream",
     "text": [
      "+-----------+---------+--------+------------------+-------+----------+\n| ProviderID|FirstName|LastName|    Specialization| DeptID|       NPI|\n+-----------+---------+--------+------------------+-------+----------+\n|H1-PROV0001|  Brandon|  Harper|          Oncology|DEPT018|3086631719|\n|H1-PROV0002|     Luke|   Clark|Emergency Medicine|DEPT006|1265568618|\n|H1-PROV0003|  Brandon|  Austin|        Pediatrics|DEPT014|3152052791|\n|H1-PROV0004|  Anthony|   Jones|         Radiology|DEPT011|8195895822|\n|H1-PROV0005| Courtney|  Flores|    Anesthesiology|DEPT009|4159583915|\n+-----------+---------+--------+------------------+-------+----------+\nonly showing top 5 rows\n\nroot\n |-- ProviderID: string (nullable = true)\n |-- FirstName: string (nullable = true)\n |-- LastName: string (nullable = true)\n |-- Specialization: string (nullable = true)\n |-- DeptID: string (nullable = true)\n |-- NPI: long (nullable = true)\n\n"
     ]
    },
    {
     "output_type": "execute_result",
     "data": {
      "text/plain": [
       "25"
      ]
     },
     "execution_count": 22,
     "metadata": {},
     "output_type": "execute_result"
    }
   ],
   "source": [
    "df_providers_a.show(5)\n",
    "df_providers_a.printSchema()\n",
    "df_providers_a.count()"
   ]
  },
  {
   "cell_type": "code",
   "execution_count": 0,
   "metadata": {
    "application/vnd.databricks.v1+cell": {
     "cellMetadata": {
      "byteLimit": 2048000,
      "rowLimit": 10000
     },
     "inputWidgets": {},
     "nuid": "bf90f3af-f0bf-483a-8ab2-bf3cb887fad3",
     "showTitle": false,
     "tableResultSettingsMap": {},
     "title": ""
    }
   },
   "outputs": [
    {
     "output_type": "stream",
     "name": "stdout",
     "output_type": "stream",
     "text": [
      "+-------+----------+\n| DeptID|      Name|\n+-------+----------+\n|DEPT001| Emergency|\n|DEPT002|Cardiology|\n|DEPT003| Neurology|\n|DEPT004|  Oncology|\n|DEPT005|Pediatrics|\n+-------+----------+\nonly showing top 5 rows\n\nroot\n |-- DeptID: string (nullable = true)\n |-- Name: string (nullable = true)\n\n"
     ]
    },
    {
     "output_type": "execute_result",
     "data": {
      "text/plain": [
       "20"
      ]
     },
     "execution_count": 23,
     "metadata": {},
     "output_type": "execute_result"
    }
   ],
   "source": [
    "df_departments_a.show(5)\n",
    "df_departments_a.printSchema()\n",
    "df_departments_a.count()"
   ]
  },
  {
   "cell_type": "code",
   "execution_count": 0,
   "metadata": {
    "application/vnd.databricks.v1+cell": {
     "cellMetadata": {
      "byteLimit": 2048000,
      "rowLimit": 10000
     },
     "inputWidgets": {},
     "nuid": "07163291-b966-4e36-8489-35f8173cf45a",
     "showTitle": false,
     "tableResultSettingsMap": {},
     "title": ""
    }
   },
   "outputs": [
    {
     "output_type": "stream",
     "name": "stdout",
     "output_type": "stream",
     "text": [
      "+-----------+------------+-------------+---------------+----------+------------+-------------+------------+------------+\n|EncounterID|   PatientID|EncounterDate|  EncounterType|ProviderID|DepartmentID|ProcedureCode|InsertedDate|ModifiedDate|\n+-----------+------------+-------------+---------------+----------+------------+-------------+------------+------------+\n|  ENC000001|HOSP1-001127|   2020-01-14|      Inpatient|  PROV0133|     DEPT019|        97099|  2023-03-08|  2020-03-01|\n|  ENC000002|HOSP1-003842|   2021-01-21|     Outpatient|  PROV0147|     DEPT013|        19272|  2022-05-01|  2022-02-05|\n|  ENC000003|HOSP1-001372|   2021-10-29|   Telemedicine|  PROV0444|     DEPT004|        65512|  2023-06-13|  2022-08-11|\n|  ENC000004|HOSP1-002649|   2023-05-05|Routine Checkup|  PROV0169|     DEPT010|        38334|  2020-06-14|  2023-06-30|\n|  ENC000005|HOSP1-001709|   2020-04-05|Routine Checkup|  PROV0479|     DEPT014|        10594|  2021-02-08|  2020-10-19|\n+-----------+------------+-------------+---------------+----------+------------+-------------+------------+------------+\nonly showing top 5 rows\n\nroot\n |-- EncounterID: string (nullable = true)\n |-- PatientID: string (nullable = true)\n |-- EncounterDate: date (nullable = true)\n |-- EncounterType: string (nullable = true)\n |-- ProviderID: string (nullable = true)\n |-- DepartmentID: string (nullable = true)\n |-- ProcedureCode: integer (nullable = true)\n |-- InsertedDate: date (nullable = true)\n |-- ModifiedDate: date (nullable = true)\n\n"
     ]
    },
    {
     "output_type": "execute_result",
     "data": {
      "text/plain": [
       "10000"
      ]
     },
     "execution_count": 24,
     "metadata": {},
     "output_type": "execute_result"
    }
   ],
   "source": [
    "df_encounters_a.show(5)\n",
    "df_encounters_a.printSchema()\n",
    "df_encounters_a.count()"
   ]
  },
  {
   "cell_type": "code",
   "execution_count": 0,
   "metadata": {
    "application/vnd.databricks.v1+cell": {
     "cellMetadata": {
      "byteLimit": 2048000,
      "rowLimit": 10000
     },
     "inputWidgets": {},
     "nuid": "80d3fc15-cae4-452d-8e28-e1cd8091c278",
     "showTitle": false,
     "tableResultSettingsMap": {},
     "title": ""
    }
   },
   "outputs": [
    {
     "output_type": "stream",
     "name": "stdout",
     "output_type": "stream",
     "text": [
      "+-------------+-----------+------------+----------+-------+----------+-----------+----------+---------+-----------------+----------+------------------+-----------+---------+-------------+-------+--------------+----------+----------+----------+------------+\n|TransactionID|EncounterID|   PatientID|ProviderID| DeptID| VisitDate|ServiceDate|  PaidDate|VisitType|           Amount|AmountType|        PaidAmount|    ClaimID|  PayorID|ProcedureCode|ICDCode|LineOfBusiness|MedicaidID|MedicareID|InsertDate|ModifiedDate|\n+-------------+-----------+------------+----------+-------+----------+-----------+----------+---------+-----------------+----------+------------------+-----------+---------+-------------+-------+--------------+----------+----------+----------+------------+\n|  TRANS000001|  ENC001204|HOSP1-002372|  PROV0456|DEPT002|2024-08-02| 2024-05-25|2024-06-15|  Routine|988.3699951171875|  Medicare|315.70001220703125|CLAIM533365|PAYOR4707|        94521|  I19.4|    Commercial| MEDI24173|MCARE19466|2021-01-16|  2021-12-27|\n|  TRANS000002|  ENC000029|HOSP1-002329|  PROV0321|DEPT013|2024-05-02| 2024-09-14|2024-09-19|Emergency| 291.260009765625|  Medicare|  667.989990234375|CLAIM629724|PAYOR1481|        51588|  I54.0|      Self-Pay| MEDI63110|MCARE97946|2021-02-06|  2022-01-26|\n|  TRANS000003|  ENC001088|HOSP1-004636|  PROV0405|DEPT007|2024-07-25| 2024-03-04|2024-06-13|  Routine|91.51000213623047|  Medicare| 595.5599975585938|CLAIM305176|PAYOR8415|        32053|  I35.3|      Medicaid| MEDI83622|MCARE77469|2022-05-09|  2021-09-22|\n|  TRANS000004|  ENC004215|HOSP1-004064|  PROV0463|DEPT019|2024-01-30| 2024-02-05|2024-01-21|Follow-up|893.2100219726562| Insurance|489.79998779296875|CLAIM987878|PAYOR5517|        21422|  I35.1|    Commercial| MEDI89783|MCARE68786|2021-01-30|  2023-02-20|\n|  TRANS000005|  ENC006483|HOSP1-003625|  PROV0167|DEPT011|2024-09-23| 2024-04-11|2024-04-24|Emergency|729.3699951171875| Insurance| 305.1099853515625|CLAIM988945|PAYOR8174|        39210|  I81.1|    Commercial| MEDI52037|MCARE92710|2024-08-11|  2022-01-28|\n+-------------+-----------+------------+----------+-------+----------+-----------+----------+---------+-----------------+----------+------------------+-----------+---------+-------------+-------+--------------+----------+----------+----------+------------+\nonly showing top 5 rows\n\nroot\n |-- TransactionID: string (nullable = true)\n |-- EncounterID: string (nullable = true)\n |-- PatientID: string (nullable = true)\n |-- ProviderID: string (nullable = true)\n |-- DeptID: string (nullable = true)\n |-- VisitDate: date (nullable = true)\n |-- ServiceDate: date (nullable = true)\n |-- PaidDate: date (nullable = true)\n |-- VisitType: string (nullable = true)\n |-- Amount: double (nullable = true)\n |-- AmountType: string (nullable = true)\n |-- PaidAmount: double (nullable = true)\n |-- ClaimID: string (nullable = true)\n |-- PayorID: string (nullable = true)\n |-- ProcedureCode: integer (nullable = true)\n |-- ICDCode: string (nullable = true)\n |-- LineOfBusiness: string (nullable = true)\n |-- MedicaidID: string (nullable = true)\n |-- MedicareID: string (nullable = true)\n |-- InsertDate: date (nullable = true)\n |-- ModifiedDate: date (nullable = true)\n\n"
     ]
    },
    {
     "output_type": "execute_result",
     "data": {
      "text/plain": [
       "10000"
      ]
     },
     "execution_count": 25,
     "metadata": {},
     "output_type": "execute_result"
    }
   ],
   "source": [
    "df_transactions_a.show(5)\n",
    "df_transactions_a.printSchema()\n",
    "df_transactions_a.count()"
   ]
  },
  {
   "cell_type": "code",
   "execution_count": 0,
   "metadata": {
    "application/vnd.databricks.v1+cell": {
     "cellMetadata": {
      "byteLimit": 2048000,
      "rowLimit": 10000
     },
     "inputWidgets": {},
     "nuid": "a4daac8d-b4b8-47cd-80fa-43303c78c766",
     "showTitle": false,
     "tableResultSettingsMap": {},
     "title": ""
    }
   },
   "outputs": [
    {
     "output_type": "stream",
     "name": "stdout",
     "output_type": "stream",
     "text": [
      "+------------+-----------+------+------+-----------+--------------------+------+----------+--------------------+------------+\n|          ID|     F_Name|L_Name|M_Name|        SSN|         PhoneNumber|Gender|       DOB|             Address|Updated_Date|\n+------------+-----------+------+------+-----------+--------------------+------+----------+--------------------+------------+\n|HOSP1-000001|   Victoria|Gamble|     Q|318-87-5123|          4902994299|  Male|1994-12-24|7912 Arthur Loaf ...|  2021-06-19|\n|HOSP1-000002|     Meghan|  West|     F|110-08-3049|  (703)210-5078x2916|Female|2009-04-03|70600 Destiny Gro...|  2024-07-06|\n|HOSP1-000003|Christopher| Klein|     X|528-95-5438|001-234-668-8071x032|  Male|1987-11-15|61743 Vickie Tunn...|  2021-02-22|\n|HOSP1-000004|      Grace| Young|     T|821-27-2909|        208.792.7266|Female|2015-02-20|1452 Gregory View...|  2021-12-27|\n|HOSP1-000005|     Andrew| Smith|     N|535-73-4816|  574-505-3750x66300|  Male|1973-06-12|15378 Thomas Lock...|  2020-08-20|\n+------------+-----------+------+------+-----------+--------------------+------+----------+--------------------+------------+\nonly showing top 5 rows\n\nroot\n |-- ID: string (nullable = true)\n |-- F_Name: string (nullable = true)\n |-- L_Name: string (nullable = true)\n |-- M_Name: string (nullable = true)\n |-- SSN: string (nullable = true)\n |-- PhoneNumber: string (nullable = true)\n |-- Gender: string (nullable = true)\n |-- DOB: date (nullable = true)\n |-- Address: string (nullable = true)\n |-- Updated_Date: date (nullable = true)\n\n"
     ]
    },
    {
     "output_type": "execute_result",
     "data": {
      "text/plain": [
       "5000"
      ]
     },
     "execution_count": 26,
     "metadata": {},
     "output_type": "execute_result"
    }
   ],
   "source": [
    "df_patients_b.show(5)\n",
    "df_patients_b.printSchema()\n",
    "df_patients_b.count()"
   ]
  },
  {
   "cell_type": "code",
   "execution_count": 0,
   "metadata": {
    "application/vnd.databricks.v1+cell": {
     "cellMetadata": {
      "byteLimit": 2048000,
      "rowLimit": 10000
     },
     "inputWidgets": {},
     "nuid": "4abe6539-46b3-40c0-b773-dab330f761b5",
     "showTitle": false,
     "tableResultSettingsMap": {},
     "title": ""
    }
   },
   "outputs": [
    {
     "output_type": "stream",
     "name": "stdout",
     "output_type": "stream",
     "text": [
      "+-----------+---------+--------+------------------+-------+----------+\n| ProviderID|FirstName|LastName|    Specialization| DeptID|       NPI|\n+-----------+---------+--------+------------------+-------+----------+\n|H2-PROV0001|    Wanda|   Ramos|        Pediatrics|DEPT003|9903342850|\n|H2-PROV0002|   Steven|   Roach|         Radiology|DEPT010|3653586329|\n|H2-PROV0003|    Amber|  Martin|Emergency Medicine|DEPT002|6917277775|\n|H2-PROV0004|     Ryan|Thompson|          Oncology|DEPT007|5911746015|\n|H2-PROV0005|  Michael|   Gould|         Neurology|DEPT018|5155973871|\n+-----------+---------+--------+------------------+-------+----------+\nonly showing top 5 rows\n\nroot\n |-- ProviderID: string (nullable = true)\n |-- FirstName: string (nullable = true)\n |-- LastName: string (nullable = true)\n |-- Specialization: string (nullable = true)\n |-- DeptID: string (nullable = true)\n |-- NPI: long (nullable = true)\n\n"
     ]
    },
    {
     "output_type": "execute_result",
     "data": {
      "text/plain": [
       "30"
      ]
     },
     "execution_count": 27,
     "metadata": {},
     "output_type": "execute_result"
    }
   ],
   "source": [
    "df_providers_b.show(5)\n",
    "df_providers_b.printSchema()\n",
    "df_providers_b.count()"
   ]
  },
  {
   "cell_type": "code",
   "execution_count": 0,
   "metadata": {
    "application/vnd.databricks.v1+cell": {
     "cellMetadata": {
      "byteLimit": 2048000,
      "rowLimit": 10000
     },
     "inputWidgets": {},
     "nuid": "7064e43d-39d2-479e-b792-3fa0ce50e37d",
     "showTitle": false,
     "tableResultSettingsMap": {},
     "title": ""
    }
   },
   "outputs": [
    {
     "output_type": "stream",
     "name": "stdout",
     "output_type": "stream",
     "text": [
      "+-------+----------+\n| DeptID|      Name|\n+-------+----------+\n|DEPT001| Emergency|\n|DEPT002|Cardiology|\n|DEPT003| Neurology|\n|DEPT004|  Oncology|\n|DEPT005|Pediatrics|\n+-------+----------+\nonly showing top 5 rows\n\nroot\n |-- DeptID: string (nullable = true)\n |-- Name: string (nullable = true)\n\n"
     ]
    },
    {
     "output_type": "execute_result",
     "data": {
      "text/plain": [
       "20"
      ]
     },
     "execution_count": 28,
     "metadata": {},
     "output_type": "execute_result"
    }
   ],
   "source": [
    "df_departments_b.show(5)\n",
    "df_departments_b.printSchema()\n",
    "df_departments_b.count()"
   ]
  },
  {
   "cell_type": "code",
   "execution_count": 0,
   "metadata": {
    "application/vnd.databricks.v1+cell": {
     "cellMetadata": {
      "byteLimit": 2048000,
      "rowLimit": 10000
     },
     "inputWidgets": {},
     "nuid": "ca8f21f1-a446-4952-b816-f4ed8eb60fbe",
     "showTitle": false,
     "tableResultSettingsMap": {},
     "title": ""
    }
   },
   "outputs": [
    {
     "output_type": "stream",
     "name": "stdout",
     "output_type": "stream",
     "text": [
      "+-----------+------------+-------------+---------------+----------+------------+-------------+------------+------------+\n|EncounterID|   PatientID|EncounterDate|  EncounterType|ProviderID|DepartmentID|ProcedureCode|InsertedDate|ModifiedDate|\n+-----------+------------+-------------+---------------+----------+------------+-------------+------------+------------+\n|  ENC000001|HOSP1-001913|   2021-07-14|      Inpatient|  PROV0238|     DEPT005|        79392|  2021-10-31|  2020-01-26|\n|  ENC000002|HOSP1-004468|   2020-10-21|     Outpatient|  PROV0422|     DEPT011|        39525|  2020-04-28|  2021-07-12|\n|  ENC000003|HOSP1-001177|   2022-10-16|     Outpatient|  PROV0250|     DEPT003|        12322|  2024-05-16|  2023-06-09|\n|  ENC000004|HOSP1-000266|   2021-05-09|      Inpatient|  PROV0177|     DEPT009|        14054|  2023-06-07|  2022-12-17|\n|  ENC000005|HOSP1-004918|   2021-05-15|Routine Checkup|  PROV0450|     DEPT006|        25936|  2024-11-02|  2021-09-30|\n+-----------+------------+-------------+---------------+----------+------------+-------------+------------+------------+\nonly showing top 5 rows\n\nroot\n |-- EncounterID: string (nullable = true)\n |-- PatientID: string (nullable = true)\n |-- EncounterDate: date (nullable = true)\n |-- EncounterType: string (nullable = true)\n |-- ProviderID: string (nullable = true)\n |-- DepartmentID: string (nullable = true)\n |-- ProcedureCode: integer (nullable = true)\n |-- InsertedDate: date (nullable = true)\n |-- ModifiedDate: date (nullable = true)\n\n"
     ]
    },
    {
     "output_type": "execute_result",
     "data": {
      "text/plain": [
       "10000"
      ]
     },
     "execution_count": 29,
     "metadata": {},
     "output_type": "execute_result"
    }
   ],
   "source": [
    "df_encounters_b.show(5)\n",
    "df_encounters_b.printSchema()\n",
    "df_encounters_b.count()"
   ]
  },
  {
   "cell_type": "code",
   "execution_count": 0,
   "metadata": {
    "application/vnd.databricks.v1+cell": {
     "cellMetadata": {
      "byteLimit": 2048000,
      "rowLimit": 10000
     },
     "inputWidgets": {},
     "nuid": "112305a6-f0b5-40ea-802f-6a125bd718d9",
     "showTitle": false,
     "tableResultSettingsMap": {},
     "title": ""
    }
   },
   "outputs": [
    {
     "output_type": "stream",
     "name": "stdout",
     "output_type": "stream",
     "text": [
      "+-------------+-----------+------------+----------+-------+----------+-----------+----------+------------+------------------+----------+------------------+-----------+---------+-------------+-------+--------------+----------+----------+----------+------------+\n|TransactionID|EncounterID|   PatientID|ProviderID| DeptID| VisitDate|ServiceDate|  PaidDate|   VisitType|            Amount|AmountType|        PaidAmount|    ClaimID|  PayorID|ProcedureCode|ICDCode|LineOfBusiness|MedicaidID|MedicareID|InsertDate|ModifiedDate|\n+-------------+-----------+------------+----------+-------+----------+-----------+----------+------------+------------------+----------+------------------+-----------+---------+-------------+-------+--------------+----------+----------+----------+------------+\n|  TRANS000001|  ENC000512|HOSP1-002609|  PROV0434|DEPT016|2024-08-31| 2024-04-03|2024-02-06|   Follow-up| 616.8699951171875|  Self-pay|234.57000732421875|CLAIM879364|PAYOR9066|        93411|  I95.4|    Commercial| MEDI13625|MCARE38344|2021-10-01|  2024-01-15|\n|  TRANS000002|  ENC009236|HOSP1-004031|  PROV0382|DEPT017|2024-04-10| 2024-08-25|2024-02-01|   Follow-up| 680.4199829101562| Insurance| 445.8699951171875|CLAIM835197|PAYOR1013|        86401|  I39.5|      Self-Pay| MEDI20311|MCARE53178|2020-03-20|  2023-01-29|\n|  TRANS000003|  ENC000005|HOSP1-004422|  PROV0341|DEPT006|2024-01-02| 2024-07-03|2024-07-22|Consultation| 540.0900268554688|  Medicare| 719.7100219726562|CLAIM497349|PAYOR7495|        75397|  I78.3|      Medicaid| MEDI68063|MCARE24004|2022-10-15|  2020-11-25|\n|  TRANS000004|  ENC002827|HOSP1-001616|  PROV0278|DEPT015|2024-03-16| 2024-03-30|2024-04-01|Consultation|245.66000366210938|  Self-pay|215.19000244140625|CLAIM566093|PAYOR8372|        14167|  I82.0|      Medicaid| MEDI16031|MCARE86440|2023-12-05|  2023-09-07|\n|  TRANS000005|  ENC001936|HOSP1-003605|  PROV0028|DEPT017|2024-06-11| 2024-02-07|2024-04-12|   Emergency| 829.8300170898438|    Co-pay|508.30999755859375|CLAIM952166|PAYOR2868|        69577|  I23.3|      Medicaid| MEDI44710|MCARE13352|2024-08-20|  2022-10-19|\n+-------------+-----------+------------+----------+-------+----------+-----------+----------+------------+------------------+----------+------------------+-----------+---------+-------------+-------+--------------+----------+----------+----------+------------+\nonly showing top 5 rows\n\nroot\n |-- TransactionID: string (nullable = true)\n |-- EncounterID: string (nullable = true)\n |-- PatientID: string (nullable = true)\n |-- ProviderID: string (nullable = true)\n |-- DeptID: string (nullable = true)\n |-- VisitDate: date (nullable = true)\n |-- ServiceDate: date (nullable = true)\n |-- PaidDate: date (nullable = true)\n |-- VisitType: string (nullable = true)\n |-- Amount: double (nullable = true)\n |-- AmountType: string (nullable = true)\n |-- PaidAmount: double (nullable = true)\n |-- ClaimID: string (nullable = true)\n |-- PayorID: string (nullable = true)\n |-- ProcedureCode: integer (nullable = true)\n |-- ICDCode: string (nullable = true)\n |-- LineOfBusiness: string (nullable = true)\n |-- MedicaidID: string (nullable = true)\n |-- MedicareID: string (nullable = true)\n |-- InsertDate: date (nullable = true)\n |-- ModifiedDate: date (nullable = true)\n\n"
     ]
    },
    {
     "output_type": "execute_result",
     "data": {
      "text/plain": [
       "10000"
      ]
     },
     "execution_count": 30,
     "metadata": {},
     "output_type": "execute_result"
    }
   ],
   "source": [
    "df_transactions_b.show(5)\n",
    "df_transactions_b.printSchema()\n",
    "df_transactions_b.count()"
   ]
  },
  {
   "cell_type": "markdown",
   "metadata": {
    "application/vnd.databricks.v1+cell": {
     "cellMetadata": {},
     "inputWidgets": {},
     "nuid": "18c7a4e7-c318-46c5-b9bc-a05aa5a77a2b",
     "showTitle": false,
     "tableResultSettingsMap": {},
     "title": ""
    }
   },
   "source": [
    "#Data Transformation (TO Achieve Silver Layer)"
   ]
  },
  {
   "cell_type": "markdown",
   "metadata": {
    "application/vnd.databricks.v1+cell": {
     "cellMetadata": {},
     "inputWidgets": {},
     "nuid": "353234d5-099b-421e-98a9-b8e5b5a05f08",
     "showTitle": false,
     "tableResultSettingsMap": {},
     "title": ""
    }
   },
   "source": [
    "Data Tranformation for Hospital A"
   ]
  },
  {
   "cell_type": "code",
   "execution_count": 0,
   "metadata": {
    "application/vnd.databricks.v1+cell": {
     "cellMetadata": {
      "byteLimit": 2048000,
      "rowLimit": 10000
     },
     "inputWidgets": {},
     "nuid": "ee76e499-1ba9-4623-b0bf-4538f0928198",
     "showTitle": false,
     "tableResultSettingsMap": {},
     "title": ""
    }
   },
   "outputs": [],
   "source": [
    "from pyspark.sql.functions import col, current_timestamp\n",
    "\n",
    "# Step 1: Select required columns (no renaming needed for Hospital A)\n",
    "patients_clean_df = df_patients_a.select(\n",
    "    col(\"PatientID\"),\n",
    "    col(\"FirstName\"),\n",
    "    col(\"LastName\"),\n",
    "    col(\"MiddleName\"),\n",
    "    col(\"SSN\"),\n",
    "    col(\"PhoneNumber\"),\n",
    "    col(\"Gender\"),\n",
    "    col(\"DOB\"),\n",
    "    col(\"Address\"),\n",
    "    col(\"ModifiedDate\")\n",
    ").dropDuplicates([\"PatientID\"]).dropna(subset=[\"PatientID\"])\n",
    "\n",
    "# Step 2: Add InsertDate column\n",
    "patients_final_df = patients_clean_df.withColumn(\"InsertDate\", current_timestamp())\n",
    "\n",
    "# Step 3: Save as Silver Layer Delta Table\n",
    "patients_final_df.write.format(\"delta\").mode(\"overwrite\").save(\"/mnt/silver/hospital-a/patients\")\n"
   ]
  },
  {
   "cell_type": "code",
   "execution_count": 0,
   "metadata": {
    "application/vnd.databricks.v1+cell": {
     "cellMetadata": {
      "byteLimit": 2048000,
      "rowLimit": 10000
     },
     "inputWidgets": {},
     "nuid": "e7d3b7b0-ae36-4f9e-be8b-28786dbaec68",
     "showTitle": false,
     "tableResultSettingsMap": {},
     "title": ""
    }
   },
   "outputs": [],
   "source": [
    "from pyspark.sql.functions import col, current_timestamp\n",
    "\n",
    "# Step 1: Clean & standardize fields from df_providers_a\n",
    "providers_clean_df = df_providers_a.select(\n",
    "    col(\"ProviderID\"),\n",
    "    col(\"FirstName\"),\n",
    "    col(\"LastName\"),\n",
    "    col(\"Specialization\"),\n",
    "    col(\"DeptID\"),\n",
    "    col(\"NPI\")\n",
    ").dropDuplicates([\"ProviderID\"]).dropna(subset=[\"ProviderID\"])\n",
    "\n",
    "# Step 2: Add InsertDate\n",
    "providers_final_df = providers_clean_df.withColumn(\"InsertDate\", current_timestamp())\n",
    "\n",
    "# Step 3: Save to Silver Layer as Delta\n",
    "providers_final_df.write.format(\"delta\").mode(\"overwrite\").save(\"/mnt/silver/hospital-a/providers\")\n"
   ]
  },
  {
   "cell_type": "code",
   "execution_count": 0,
   "metadata": {
    "application/vnd.databricks.v1+cell": {
     "cellMetadata": {
      "byteLimit": 2048000,
      "rowLimit": 10000
     },
     "inputWidgets": {},
     "nuid": "7c40074a-007e-49ea-8aac-b18573e939ba",
     "showTitle": false,
     "tableResultSettingsMap": {},
     "title": ""
    }
   },
   "outputs": [],
   "source": [
    "from pyspark.sql.functions import col, current_timestamp\n",
    "\n",
    "departments_clean_df = df_departments_a.select(\n",
    "    col(\"DeptID\"),\n",
    "    col(\"Name\")\n",
    ").dropDuplicates([\"DeptID\"]).dropna(subset=[\"DeptID\"])\n",
    "\n",
    "departments_final_df = departments_clean_df.withColumn(\"InsertDate\", current_timestamp())\n",
    "\n",
    "departments_final_df.write.format(\"delta\").mode(\"overwrite\").save(\"/mnt/silver/hospital-a/departments\")\n"
   ]
  },
  {
   "cell_type": "code",
   "execution_count": 0,
   "metadata": {
    "application/vnd.databricks.v1+cell": {
     "cellMetadata": {
      "byteLimit": 2048000,
      "rowLimit": 10000
     },
     "inputWidgets": {},
     "nuid": "f19e9a16-d48e-4b9c-9071-9dc79329bfb4",
     "showTitle": false,
     "tableResultSettingsMap": {},
     "title": ""
    }
   },
   "outputs": [],
   "source": [
    "encounters_clean_df = df_encounters_a.select(\n",
    "    col(\"EncounterID\"),\n",
    "    col(\"PatientID\"),\n",
    "    col(\"EncounterDate\"),\n",
    "    col(\"EncounterType\"),\n",
    "    col(\"ProviderID\"),\n",
    "    col(\"DepartmentID\"),\n",
    "    col(\"ProcedureCode\"),\n",
    "    col(\"InsertedDate\"),\n",
    "    col(\"ModifiedDate\")\n",
    ").dropDuplicates([\"EncounterID\"]).dropna(subset=[\"EncounterID\"])\n",
    "\n",
    "encounters_final_df = encounters_clean_df.withColumn(\"InsertDate\", current_timestamp())\n",
    "\n",
    "encounters_final_df.write.format(\"delta\").mode(\"overwrite\").save(\"/mnt/silver/hospital-a/encounters\")\n"
   ]
  },
  {
   "cell_type": "code",
   "execution_count": 0,
   "metadata": {
    "application/vnd.databricks.v1+cell": {
     "cellMetadata": {
      "byteLimit": 2048000,
      "rowLimit": 10000
     },
     "inputWidgets": {},
     "nuid": "65034866-4198-4ac1-9604-1fc2827075b9",
     "showTitle": false,
     "tableResultSettingsMap": {},
     "title": ""
    }
   },
   "outputs": [],
   "source": [
    "transactions_clean_df = df_transactions_a.select(\n",
    "    col(\"TransactionID\"),\n",
    "    col(\"EncounterID\"),\n",
    "    col(\"PatientID\"),\n",
    "    col(\"ProviderID\"),\n",
    "    col(\"DeptID\"),\n",
    "    col(\"VisitDate\"),\n",
    "    col(\"ServiceDate\"),\n",
    "    col(\"PaidDate\"),\n",
    "    col(\"VisitType\"),\n",
    "    col(\"Amount\"),\n",
    "    col(\"AmountType\"),\n",
    "    col(\"PaidAmount\"),\n",
    "    col(\"ClaimID\"),\n",
    "    col(\"PayorID\"),\n",
    "    col(\"ProcedureCode\"),\n",
    "    col(\"ICDCode\"),\n",
    "    col(\"LineOfBusiness\"),\n",
    "    col(\"MedicaidID\"),\n",
    "    col(\"MedicareID\"),\n",
    "    col(\"InsertDate\"),\n",
    "    col(\"ModifiedDate\")\n",
    ").dropDuplicates([\"TransactionID\"]).dropna(subset=[\"TransactionID\"])\n",
    "\n",
    "transactions_final_df = transactions_clean_df.withColumn(\"IngestedDate\", current_timestamp())\n",
    "\n",
    "transactions_final_df.write.format(\"delta\").mode(\"overwrite\").save(\"/mnt/silver/hospital-a/transactions\")\n"
   ]
  },
  {
   "cell_type": "markdown",
   "metadata": {
    "application/vnd.databricks.v1+cell": {
     "cellMetadata": {},
     "inputWidgets": {},
     "nuid": "988737ff-94a6-4a4f-8d9d-a13fc2de0257",
     "showTitle": false,
     "tableResultSettingsMap": {},
     "title": ""
    }
   },
   "source": [
    "Data Transformation for Hospital B"
   ]
  },
  {
   "cell_type": "code",
   "execution_count": 0,
   "metadata": {
    "application/vnd.databricks.v1+cell": {
     "cellMetadata": {
      "byteLimit": 2048000,
      "rowLimit": 10000
     },
     "inputWidgets": {},
     "nuid": "97608408-f518-4275-9b9e-edf88a37a3cf",
     "showTitle": false,
     "tableResultSettingsMap": {},
     "title": ""
    }
   },
   "outputs": [],
   "source": [
    "from pyspark.sql.functions import col, current_timestamp\n",
    "\n",
    "# Step 1: Select and rename necessary columns\n",
    "patients_b_clean_df = df_patients_b.select(\n",
    "    col(\"ID\").alias(\"PatientID\"),\n",
    "    col(\"F_Name\").alias(\"FirstName\"),\n",
    "    col(\"L_Name\").alias(\"LastName\"),\n",
    "    col(\"M_Name\").alias(\"MiddleName\"),\n",
    "    col(\"SSN\"),\n",
    "    col(\"PhoneNumber\"),\n",
    "    col(\"Gender\"),\n",
    "    col(\"DOB\"),\n",
    "    col(\"Address\"),\n",
    "    col(\"Updated_Date\").alias(\"ModifiedDate\")\n",
    ").dropDuplicates([\"PatientID\"]).dropna(subset=[\"PatientID\"])\n",
    "\n",
    "# Step 2: Add InsertDate column\n",
    "patients_b_final_df = patients_b_clean_df.withColumn(\"InsertDate\", current_timestamp())\n",
    "\n",
    "# Step 3: Write to Silver Layer Delta format\n",
    "patients_b_final_df.write.format(\"delta\").mode(\"overwrite\").save(\"/mnt/silver/hospital-b/patients\")\n"
   ]
  },
  {
   "cell_type": "code",
   "execution_count": 0,
   "metadata": {
    "application/vnd.databricks.v1+cell": {
     "cellMetadata": {
      "byteLimit": 2048000,
      "rowLimit": 10000
     },
     "inputWidgets": {},
     "nuid": "699bef22-7076-4d09-98fe-886234d82ca0",
     "showTitle": false,
     "tableResultSettingsMap": {},
     "title": ""
    }
   },
   "outputs": [],
   "source": [
    "from pyspark.sql.functions import col, current_timestamp\n",
    "\n",
    "# Step 1: Select relevant columns\n",
    "providers_b_clean_df = df_providers_b.select(\n",
    "    col(\"ProviderID\"),\n",
    "    col(\"FirstName\"),\n",
    "    col(\"LastName\"),\n",
    "    col(\"Specialization\"),\n",
    "    col(\"DeptID\"),\n",
    "    col(\"NPI\")\n",
    ").dropDuplicates([\"ProviderID\"]).dropna(subset=[\"ProviderID\"])\n",
    "\n",
    "# Step 2: Add InsertDate column\n",
    "providers_b_final_df = providers_b_clean_df.withColumn(\"InsertDate\", current_timestamp())\n",
    "\n",
    "# Step 3: Write to Silver Layer\n",
    "providers_b_final_df.write.format(\"delta\").mode(\"overwrite\").save(\"/mnt/silver/hospital-b/providers\")\n"
   ]
  },
  {
   "cell_type": "code",
   "execution_count": 0,
   "metadata": {
    "application/vnd.databricks.v1+cell": {
     "cellMetadata": {
      "byteLimit": 2048000,
      "rowLimit": 10000
     },
     "inputWidgets": {},
     "nuid": "f4ad4965-6a19-4e62-8164-73664d8ea607",
     "showTitle": false,
     "tableResultSettingsMap": {},
     "title": ""
    }
   },
   "outputs": [],
   "source": [
    "from pyspark.sql.functions import col, current_timestamp\n",
    "\n",
    "# Step 1: Select and clean columns\n",
    "departments_b_clean_df = df_departments_b.select(\n",
    "    col(\"DeptID\"),\n",
    "    col(\"Name\")\n",
    ").dropDuplicates([\"DeptID\"]).dropna(subset=[\"DeptID\"])\n",
    "\n",
    "# Step 2: Add InsertDate column\n",
    "departments_b_final_df = departments_b_clean_df.withColumn(\"InsertDate\", current_timestamp())\n",
    "\n",
    "# Step 3: Save to Silver Layer\n",
    "departments_b_final_df.write.format(\"delta\").mode(\"overwrite\").save(\"/mnt/silver/hospital-b/departments\")\n"
   ]
  },
  {
   "cell_type": "code",
   "execution_count": 0,
   "metadata": {
    "application/vnd.databricks.v1+cell": {
     "cellMetadata": {
      "byteLimit": 2048000,
      "rowLimit": 10000
     },
     "inputWidgets": {},
     "nuid": "7e447490-395b-4eaf-b0cb-2f81cc4e5050",
     "showTitle": false,
     "tableResultSettingsMap": {},
     "title": ""
    }
   },
   "outputs": [],
   "source": [
    "from pyspark.sql.functions import col, current_timestamp\n",
    "\n",
    "# Step 1: Select and clean\n",
    "encounters_b_clean_df = df_encounters_b.select(\n",
    "    col(\"EncounterID\"),\n",
    "    col(\"PatientID\"),\n",
    "    col(\"EncounterDate\"),\n",
    "    col(\"EncounterType\"),\n",
    "    col(\"ProviderID\"),\n",
    "    col(\"DepartmentID\"),\n",
    "    col(\"ProcedureCode\"),\n",
    "    col(\"InsertedDate\"),\n",
    "    col(\"ModifiedDate\")\n",
    ").dropDuplicates([\"EncounterID\"]).dropna(subset=[\"EncounterID\"])\n",
    "\n",
    "# Step 2: Add InsertDate\n",
    "encounters_b_final_df = encounters_b_clean_df.withColumn(\"InsertDate\", current_timestamp())\n",
    "\n",
    "# Step 3: Write to Silver\n",
    "encounters_b_final_df.write.format(\"delta\").mode(\"overwrite\").save(\"/mnt/silver/hospital-b/encounters\")\n"
   ]
  },
  {
   "cell_type": "code",
   "execution_count": 0,
   "metadata": {
    "application/vnd.databricks.v1+cell": {
     "cellMetadata": {
      "byteLimit": 2048000,
      "rowLimit": 10000
     },
     "inputWidgets": {},
     "nuid": "549292a9-6d74-4cd3-a2b8-4078c968cce4",
     "showTitle": false,
     "tableResultSettingsMap": {},
     "title": ""
    }
   },
   "outputs": [],
   "source": [
    "transactions_b_clean_df = df_transactions_b.select(\n",
    "    col(\"TransactionID\"),\n",
    "    col(\"EncounterID\"),\n",
    "    col(\"PatientID\"),\n",
    "    col(\"ProviderID\"),\n",
    "    col(\"DeptID\"),\n",
    "    col(\"VisitDate\"),\n",
    "    col(\"ServiceDate\"),\n",
    "    col(\"PaidDate\"),\n",
    "    col(\"VisitType\"),\n",
    "    col(\"Amount\"),\n",
    "    col(\"AmountType\"),\n",
    "    col(\"PaidAmount\"),\n",
    "    col(\"ClaimID\"),\n",
    "    col(\"PayorID\"),\n",
    "    col(\"ProcedureCode\"),\n",
    "    col(\"ICDCode\"),\n",
    "    col(\"LineOfBusiness\"),\n",
    "    col(\"MedicaidID\"),\n",
    "    col(\"MedicareID\"),\n",
    "    col(\"InsertDate\"),\n",
    "    col(\"ModifiedDate\")\n",
    ").dropDuplicates([\"TransactionID\"]).dropna(subset=[\"TransactionID\"])\n",
    "\n",
    "# Step 2: Add ingestion metadata\n",
    "transactions_b_final_df = transactions_b_clean_df.withColumn(\"IngestedDate\", current_timestamp())\n",
    "\n",
    "# Step 3: Save as Delta\n",
    "transactions_b_final_df.write.format(\"delta\").mode(\"overwrite\").save(\"/mnt/silver/hospital-b/transactions\")\n"
   ]
  },
  {
   "cell_type": "markdown",
   "metadata": {
    "application/vnd.databricks.v1+cell": {
     "cellMetadata": {},
     "inputWidgets": {},
     "nuid": "3ece84b6-4a1d-457a-976f-a6bd2cfbefa1",
     "showTitle": false,
     "tableResultSettingsMap": {},
     "title": ""
    }
   },
   "source": [
    "#Achieving Gold Layer"
   ]
  },
  {
   "cell_type": "markdown",
   "metadata": {
    "application/vnd.databricks.v1+cell": {
     "cellMetadata": {},
     "inputWidgets": {},
     "nuid": "31c10021-dc6a-42d1-914e-76cbb008a035",
     "showTitle": false,
     "tableResultSettingsMap": {},
     "title": ""
    }
   },
   "source": [
    "**Step 1: Combine Hospital A & B all(patients, Providers, departments, encounters, transactions) Silver tables**"
   ]
  },
  {
   "cell_type": "code",
   "execution_count": 0,
   "metadata": {
    "application/vnd.databricks.v1+cell": {
     "cellMetadata": {
      "byteLimit": 2048000,
      "rowLimit": 10000
     },
     "inputWidgets": {},
     "nuid": "8d6ce5f4-e4e4-4ded-a66f-80a576d2f6a5",
     "showTitle": false,
     "tableResultSettingsMap": {},
     "title": ""
    }
   },
   "outputs": [],
   "source": [
    "# Load both silver patient tables\n",
    "patients_a_silver = spark.read.format(\"delta\").load(\"/mnt/silver/hospital-a/patients\")\n",
    "patients_b_silver = spark.read.format(\"delta\").load(\"/mnt/silver/hospital-b/patients\")\n",
    "\n",
    "# Merge them (Union)\n",
    "patients_gold_df = patients_a_silver.unionByName(patients_b_silver)\n",
    "\n",
    "# Write to Gold Layer\n",
    "patients_gold_df.write.format(\"delta\").mode(\"overwrite\").save(\"/mnt/gold/patients_tb1\")\n",
    "\n"
   ]
  },
  {
   "cell_type": "code",
   "execution_count": 0,
   "metadata": {
    "application/vnd.databricks.v1+cell": {
     "cellMetadata": {
      "byteLimit": 2048000,
      "rowLimit": 10000
     },
     "inputWidgets": {},
     "nuid": "d0648003-34d3-42b1-9d5a-0ce698d36aa1",
     "showTitle": false,
     "tableResultSettingsMap": {},
     "title": ""
    }
   },
   "outputs": [],
   "source": [
    "providers_a_silver = spark.read.format(\"delta\").load(\"/mnt/silver/hospital-a/providers\")\n",
    "providers_b_silver = spark.read.format(\"delta\").load(\"/mnt/silver/hospital-b/providers\")\n",
    "\n",
    "providers_gold_df = providers_a_silver.unionByName(providers_b_silver)\n",
    "\n",
    "providers_gold_df.write.format(\"delta\").mode(\"overwrite\").save(\"/mnt/gold/providers_tb1\")\n",
    "\n",
    "\n"
   ]
  },
  {
   "cell_type": "code",
   "execution_count": 0,
   "metadata": {
    "application/vnd.databricks.v1+cell": {
     "cellMetadata": {
      "byteLimit": 2048000,
      "rowLimit": 10000
     },
     "inputWidgets": {},
     "nuid": "01e4c3a6-4f2f-4b48-a166-dd7e97fa108a",
     "showTitle": false,
     "tableResultSettingsMap": {},
     "title": ""
    }
   },
   "outputs": [],
   "source": [
    "departments_a_silver = spark.read.format(\"delta\").load(\"/mnt/silver/hospital-a/departments\")\n",
    "departments_b_silver = spark.read.format(\"delta\").load(\"/mnt/silver/hospital-b/departments\")\n",
    "\n",
    "departments_gold_df = departments_a_silver.unionByName(departments_b_silver)\n",
    "\n",
    "departments_gold_df.write.format(\"delta\").mode(\"overwrite\").save(\"/mnt/gold/departments_tb1\")\n",
    "\n"
   ]
  },
  {
   "cell_type": "code",
   "execution_count": 0,
   "metadata": {
    "application/vnd.databricks.v1+cell": {
     "cellMetadata": {
      "byteLimit": 2048000,
      "rowLimit": 10000
     },
     "inputWidgets": {},
     "nuid": "2a1ab7e4-4cfd-462c-b046-8e2c891485bd",
     "showTitle": false,
     "tableResultSettingsMap": {},
     "title": ""
    }
   },
   "outputs": [],
   "source": [
    "encounters_a_silver = spark.read.format(\"delta\").load(\"/mnt/silver/hospital-a/encounters\")\n",
    "encounters_b_silver = spark.read.format(\"delta\").load(\"/mnt/silver/hospital-b/encounters\")\n",
    "\n",
    "encounters_gold_df = encounters_a_silver.unionByName(encounters_b_silver)\n",
    "\n",
    "encounters_gold_df.write.format(\"delta\").mode(\"overwrite\").save(\"/mnt/gold/encounters_tb1\")\n",
    "\n"
   ]
  },
  {
   "cell_type": "code",
   "execution_count": 0,
   "metadata": {
    "application/vnd.databricks.v1+cell": {
     "cellMetadata": {
      "byteLimit": 2048000,
      "rowLimit": 10000
     },
     "inputWidgets": {},
     "nuid": "64a42b74-038b-41a3-9503-fb37f5df2e40",
     "showTitle": false,
     "tableResultSettingsMap": {},
     "title": ""
    }
   },
   "outputs": [],
   "source": [
    "transactions_a_silver = spark.read.format(\"delta\").load(\"/mnt/silver/hospital-a/transactions\")\n",
    "transactions_b_silver = spark.read.format(\"delta\").load(\"/mnt/silver/hospital-b/transactions\")\n",
    "\n",
    "transactions_gold_df = transactions_a_silver.unionByName(transactions_b_silver)\n",
    "\n",
    "transactions_gold_df.write.format(\"delta\").mode(\"overwrite\").save(\"/mnt/gold/transactions_tb1\")\n",
    "\n"
   ]
  },
  {
   "cell_type": "code",
   "execution_count": 0,
   "metadata": {
    "application/vnd.databricks.v1+cell": {
     "cellMetadata": {
      "byteLimit": 2048000,
      "rowLimit": 10000
     },
     "inputWidgets": {},
     "nuid": "be436739-4bd6-4101-b1fa-3d4831f46139",
     "showTitle": false,
     "tableResultSettingsMap": {},
     "title": ""
    }
   },
   "outputs": [
    {
     "output_type": "stream",
     "name": "stdout",
     "output_type": "stream",
     "text": [
      "+------------+-----+\n|DepartmentID|count|\n+------------+-----+\n|     DEPT014| 1050|\n|     DEPT020| 1046|\n|     DEPT009| 1045|\n|     DEPT016| 1031|\n|     DEPT004| 1031|\n|     DEPT017| 1021|\n|     DEPT011| 1019|\n|     DEPT008| 1007|\n|     DEPT019| 1000|\n|     DEPT012|  998|\n|     DEPT018|  994|\n|     DEPT015|  992|\n|     DEPT001|  988|\n|     DEPT006|  985|\n|     DEPT007|  981|\n|     DEPT010|  980|\n|     DEPT003|  977|\n|     DEPT005|  971|\n|     DEPT013|  961|\n|     DEPT002|  923|\n+------------+-----+\n\n"
     ]
    }
   ],
   "source": [
    "#Total number of encounters per department\n",
    "encounters_gold_df.groupBy(\"DepartmentID\").count().orderBy(\"count\", ascending=False).show()\n",
    "\n"
   ]
  },
  {
   "cell_type": "code",
   "execution_count": 0,
   "metadata": {
    "application/vnd.databricks.v1+cell": {
     "cellMetadata": {
      "byteLimit": 2048000,
      "rowLimit": 10000
     },
     "inputWidgets": {},
     "nuid": "7bd604a9-8be5-465a-8619-9a8cea7f1c8f",
     "showTitle": false,
     "tableResultSettingsMap": {},
     "title": ""
    }
   },
   "outputs": [
    {
     "output_type": "stream",
     "name": "stdout",
     "output_type": "stream",
     "text": [
      "+-------+------------------+\n| DeptID|      TotalRevenue|\n+-------+------------------+\n|DEPT018|446588.10039901733|\n|DEPT014| 429201.9290676117|\n|DEPT019| 426725.9002799988|\n|DEPT012|426306.09961509705|\n|DEPT010|419697.49950408936|\n|DEPT002| 419332.1098213196|\n|DEPT003| 417386.8002643585|\n|DEPT011| 414940.8691043854|\n|DEPT007| 410793.9397640228|\n|DEPT015|408801.34984588623|\n|DEPT020|406360.34000587463|\n|DEPT001| 403590.6898651123|\n|DEPT016| 402427.9200897217|\n|DEPT004| 400248.0400657654|\n|DEPT006| 398948.8005847931|\n|DEPT005| 398041.2200374603|\n|DEPT013| 397900.7796840668|\n|DEPT008| 393941.2499675751|\n|DEPT017|391042.06024742126|\n|DEPT009|  384238.399559021|\n+-------+------------------+\n\n"
     ]
    }
   ],
   "source": [
    "#Total revenue (PaidAmount) per department\n",
    "transactions_gold_df.groupBy(\"DeptID\").sum(\"PaidAmount\").withColumnRenamed(\"sum(PaidAmount)\", \"TotalRevenue\").orderBy(\"TotalRevenue\", ascending=False).show()\n"
   ]
  },
  {
   "cell_type": "code",
   "execution_count": 0,
   "metadata": {
    "application/vnd.databricks.v1+cell": {
     "cellMetadata": {
      "byteLimit": 2048000,
      "rowLimit": 10000
     },
     "inputWidgets": {},
     "nuid": "005b16f5-1fec-4017-b7eb-00d2725279cc",
     "showTitle": false,
     "tableResultSettingsMap": {},
     "title": ""
    }
   },
   "outputs": [
    {
     "output_type": "stream",
     "name": "stdout",
     "output_type": "stream",
     "text": [
      "+--------------+------------------+\n|LineOfBusiness|         TotalPaid|\n+--------------+------------------+\n|      Medicaid|2038254.1785907745|\n|    Commercial| 2006147.958847046|\n|      Medicare|2060931.3403987885|\n|      Self-Pay|2091180.6199359894|\n+--------------+------------------+\n\n"
     ]
    }
   ],
   "source": [
    "#Total paid amount by line of business\n",
    "transactions_gold_df.groupBy(\"LineOfBusiness\").sum(\"PaidAmount\").withColumnRenamed(\"sum(PaidAmount)\", \"TotalPaid\").show()\n"
   ]
  },
  {
   "cell_type": "code",
   "execution_count": 0,
   "metadata": {
    "application/vnd.databricks.v1+cell": {
     "cellMetadata": {
      "byteLimit": 2048000,
      "rowLimit": 10000
     },
     "inputWidgets": {},
     "nuid": "70c024bb-5340-4997-8d52-15915b256821",
     "showTitle": false,
     "tableResultSettingsMap": {},
     "title": ""
    }
   },
   "outputs": [
    {
     "output_type": "stream",
     "name": "stdout",
     "output_type": "stream",
     "text": [
      "+-------------+-----+\n|ProcedureCode|count|\n+-------------+-----+\n|        34593|   46|\n|        43568|   38|\n|        91224|   37|\n|        80382|   37|\n|        34345|   34|\n|        71145|   34|\n|        15218|   34|\n|        79188|   34|\n|        65508|   33|\n|        13547|   33|\n|        95176|   33|\n|        41830|   32|\n|        55589|   32|\n|        93260|   32|\n|        60658|   31|\n|        56818|   31|\n|        99415|   30|\n|        91178|   30|\n|        34336|   30|\n|        86830|   30|\n+-------------+-----+\nonly showing top 20 rows\n\n"
     ]
    }
   ],
   "source": [
    "transactions_gold_df.groupBy(\"ProcedureCode\").count().orderBy(\"count\", ascending=False).show()\n"
   ]
  },
  {
   "cell_type": "code",
   "execution_count": 0,
   "metadata": {
    "application/vnd.databricks.v1+cell": {
     "cellMetadata": {
      "byteLimit": 2048000,
      "rowLimit": 10000
     },
     "inputWidgets": {},
     "nuid": "22f17b31-7a76-4d5b-b36b-2886308ee0e4",
     "showTitle": false,
     "tableResultSettingsMap": {},
     "title": ""
    }
   },
   "outputs": [
    {
     "output_type": "stream",
     "name": "stdout",
     "output_type": "stream",
     "text": [
      "+-------+------------------+\n| DeptID|         TotalPaid|\n+-------+------------------+\n|DEPT018|446588.10039901733|\n|DEPT014| 429201.9290676117|\n|DEPT019| 426725.9002799988|\n|DEPT012|426306.09961509705|\n|DEPT010|419697.49950408936|\n|DEPT002| 419332.1098213196|\n|DEPT003| 417386.8002643585|\n|DEPT011| 414940.8691043854|\n|DEPT007| 410793.9397640228|\n|DEPT015|408801.34984588623|\n|DEPT020|406360.34000587463|\n|DEPT001| 403590.6898651123|\n|DEPT016| 402427.9200897217|\n|DEPT004| 400248.0400657654|\n|DEPT006| 398948.8005847931|\n|DEPT005| 398041.2200374603|\n|DEPT013| 397900.7796840668|\n|DEPT008| 393941.2499675751|\n|DEPT017|391042.06024742126|\n|DEPT009|  384238.399559021|\n+-------+------------------+\n\n"
     ]
    }
   ],
   "source": [
    "# Example: Registering as temp view\n",
    "encounters_gold_df.createOrReplaceTempView(\"gold_encounters\")\n",
    "transactions_gold_df.createOrReplaceTempView(\"gold_transactions\")\n",
    "\n",
    "# Now you can run SQL-style queries\n",
    "spark.sql(\"\"\"\n",
    "SELECT DeptID, SUM(PaidAmount) AS TotalPaid\n",
    "FROM gold_transactions\n",
    "GROUP BY DeptID\n",
    "ORDER BY TotalPaid DESC\n",
    "\"\"\").show()\n"
   ]
  },
  {
   "cell_type": "markdown",
   "metadata": {
    "application/vnd.databricks.v1+cell": {
     "cellMetadata": {},
     "inputWidgets": {},
     "nuid": "4f489782-c6c6-4728-ad15-110a0c17c20c",
     "showTitle": false,
     "tableResultSettingsMap": {},
     "title": ""
    }
   },
   "source": [
    "#Step-by-Step: Gold Tables → Synapse Access"
   ]
  },
  {
   "cell_type": "markdown",
   "metadata": {
    "application/vnd.databricks.v1+cell": {
     "cellMetadata": {},
     "inputWidgets": {},
     "nuid": "f73cacb1-4bf4-4809-bd3c-3968cb177e54",
     "showTitle": false,
     "tableResultSettingsMap": {},
     "title": ""
    }
   },
   "source": [
    "**Step 1: Register Delta Tables as Hive Tables in Databricks**"
   ]
  },
  {
   "cell_type": "code",
   "execution_count": 0,
   "metadata": {
    "application/vnd.databricks.v1+cell": {
     "cellMetadata": {
      "byteLimit": 2048000,
      "rowLimit": 10000
     },
     "inputWidgets": {},
     "nuid": "e9ddd3de-de05-432f-94c2-eda643cb567d",
     "showTitle": false,
     "tableResultSettingsMap": {},
     "title": ""
    }
   },
   "outputs": [],
   "source": [
    "# Patients\n",
    "patients_gold_df.write.format(\"delta\").mode(\"overwrite\").saveAsTable(\"gold_patients_tb1\")\n",
    "\n",
    "# Providers\n",
    "providers_gold_df.write.format(\"delta\").mode(\"overwrite\").saveAsTable(\"gold_providers_tb1\")\n",
    "\n",
    "# Departments\n",
    "departments_gold_df.write.format(\"delta\").mode(\"overwrite\").saveAsTable(\"gold_departments_tb1\")\n",
    "\n",
    "# Encounters\n",
    "encounters_gold_df.write.format(\"delta\").mode(\"overwrite\").saveAsTable(\"gold_encounters_tb1\")\n",
    "\n",
    "# Transactions\n",
    "transactions_gold_df.write.format(\"delta\").mode(\"overwrite\").saveAsTable(\"gold_transactions_tb1\")\n"
   ]
  },
  {
   "cell_type": "code",
   "execution_count": 0,
   "metadata": {
    "application/vnd.databricks.v1+cell": {
     "cellMetadata": {
      "byteLimit": 2048000,
      "rowLimit": 10000
     },
     "inputWidgets": {},
     "nuid": "beb7431a-02e3-4bb1-a0d0-9419e08527c3",
     "showTitle": false,
     "tableResultSettingsMap": {},
     "title": ""
    }
   },
   "outputs": [
    {
     "output_type": "execute_result",
     "data": {
      "text/plain": [
       "True"
      ]
     },
     "execution_count": 58,
     "metadata": {},
     "output_type": "execute_result"
    }
   ],
   "source": [
    "dbutils.fs.mount(\n",
    "    source = \"wasbs://gold@healthcaredatalakep.blob.core.windows.net/\",\n",
    "    mount_point = \"/mnt/gold\",\n",
    "    extra_configs = {\n",
    "        \"fs.azure.account.key.healthcaredatalakep.blob.core.windows.net\": \"\"\n",
    "    }\n",
    ")\n"
   ]
  },
  {
   "cell_type": "code",
   "execution_count": 0,
   "metadata": {
    "application/vnd.databricks.v1+cell": {
     "cellMetadata": {
      "byteLimit": 2048000,
      "rowLimit": 10000
     },
     "inputWidgets": {},
     "nuid": "2a751df7-998c-4e41-816b-ce63a024f9cf",
     "showTitle": false,
     "tableResultSettingsMap": {},
     "title": ""
    }
   },
   "outputs": [
    {
     "output_type": "display_data",
     "data": {
      "text/html": [
       "<style scoped>\n",
       "  .table-result-container {\n",
       "    max-height: 300px;\n",
       "    overflow: auto;\n",
       "  }\n",
       "  table, th, td {\n",
       "    border: 1px solid black;\n",
       "    border-collapse: collapse;\n",
       "  }\n",
       "  th, td {\n",
       "    padding: 5px;\n",
       "  }\n",
       "  th {\n",
       "    text-align: left;\n",
       "  }\n",
       "</style><div class='table-result-container'><table class='table-result'><thead style='background-color: white'><tr><th>path</th><th>name</th><th>size</th><th>modificationTime</th></tr></thead><tbody><tr><td>dbfs:/mnt/gold/gold_departments_tb1/</td><td>gold_departments_tb1/</td><td>0</td><td>0</td></tr><tr><td>dbfs:/mnt/gold/gold_encounters_tb1/</td><td>gold_encounters_tb1/</td><td>0</td><td>0</td></tr><tr><td>dbfs:/mnt/gold/gold_patients_tb1/</td><td>gold_patients_tb1/</td><td>0</td><td>0</td></tr><tr><td>dbfs:/mnt/gold/gold_providers_tb1/</td><td>gold_providers_tb1/</td><td>0</td><td>0</td></tr><tr><td>dbfs:/mnt/gold/gold_transactions_tb1/</td><td>gold_transactions_tb1/</td><td>0</td><td>0</td></tr></tbody></table></div>"
      ]
     },
     "metadata": {
      "application/vnd.databricks.v1+output": {
       "addedWidgets": {},
       "aggData": [],
       "aggError": "",
       "aggOverflow": false,
       "aggSchema": [],
       "aggSeriesLimitReached": false,
       "aggType": "",
       "arguments": {},
       "columnCustomDisplayInfos": {},
       "data": [
        [
         "dbfs:/mnt/gold/gold_departments_tb1/",
         "gold_departments_tb1/",
         0,
         0
        ],
        [
         "dbfs:/mnt/gold/gold_encounters_tb1/",
         "gold_encounters_tb1/",
         0,
         0
        ],
        [
         "dbfs:/mnt/gold/gold_patients_tb1/",
         "gold_patients_tb1/",
         0,
         0
        ],
        [
         "dbfs:/mnt/gold/gold_providers_tb1/",
         "gold_providers_tb1/",
         0,
         0
        ],
        [
         "dbfs:/mnt/gold/gold_transactions_tb1/",
         "gold_transactions_tb1/",
         0,
         0
        ]
       ],
       "datasetInfos": [],
       "dbfsResultPath": null,
       "isJsonSchema": true,
       "metadata": {},
       "overflow": false,
       "plotOptions": {
        "customPlotOptions": {},
        "displayType": "table",
        "pivotAggregation": null,
        "pivotColumns": null,
        "xColumns": null,
        "yColumns": null
       },
       "removedWidgets": [],
       "schema": [
        {
         "metadata": "{}",
         "name": "path",
         "type": "\"string\""
        },
        {
         "metadata": "{}",
         "name": "name",
         "type": "\"string\""
        },
        {
         "metadata": "{}",
         "name": "size",
         "type": "\"long\""
        },
        {
         "metadata": "{}",
         "name": "modificationTime",
         "type": "\"long\""
        }
       ],
       "type": "table"
      }
     },
     "output_type": "display_data"
    }
   ],
   "source": [
    "display(dbutils.fs.ls(\"/mnt/gold\"))\n"
   ]
  }
 ],
 "metadata": {
  "application/vnd.databricks.v1+notebook": {
   "computePreferences": null,
   "dashboards": [],
   "environmentMetadata": {
    "base_environment": "",
    "environment_version": "2"
   },
   "inputWidgetPreferences": null,
   "language": "python",
   "notebookMetadata": {
    "pythonIndentUnit": 4
   },
   "notebookName": "load_patients",
   "widgets": {}
  },
  "language_info": {
   "name": "python"
  }
 },
 "nbformat": 4,
 "nbformat_minor": 0
}